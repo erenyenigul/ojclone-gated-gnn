{
 "cells": [
  {
   "cell_type": "code",
   "execution_count": 1,
   "id": "3202690c",
   "metadata": {},
   "outputs": [],
   "source": [
    "import numpy as np\n",
    "\n",
    "from sklearn.model_selection import StratifiedKFold\n",
    "\n",
    "from ojclone import OJCloneDataset\n",
    "from compy import models as M\n",
    "from compy import representations as R\n",
    "from compy.representations.extractors import ClangDriver\n",
    "from utils import EarlyStopper\n",
    "import faulthandler; faulthandler.enable()\n"
   ]
  },
  {
   "cell_type": "code",
   "execution_count": 2,
   "id": "5eeede0e",
   "metadata": {},
   "outputs": [],
   "source": [
    "# Load dataset\n",
    "dataset = OJCloneDataset()"
   ]
  },
  {
   "cell_type": "code",
   "execution_count": 3,
   "id": "682fed48",
   "metadata": {},
   "outputs": [],
   "source": [
    "# Explore combinations\n",
    "combinations = [\n",
    "    # CGO 20: AST+DF, CDFG\n",
    "    #(R.ASTGraphBuilder, R.ASTDataVisitor, M.GnnPytorchGeomModel),\n",
    "    #(R.LLVMGraphBuilder, R.LLVMCDFGVisitor, M.GnnPytorchGeomModel),\n",
    "    ## Arxiv 20: ProGraML\n",
    "    #(R.LLVMGraphBuilder, R.LLVMProGraMLVisitor, M.GnnPytorchGeomModel),\n",
    "    ## PACT 17: DeepTune\n",
    "    #(R.SyntaxSeqBuilder, R.SyntaxTokenkindVariableVisitor, M.RnnTfModel),\n",
    "    ## Extra\n",
    "    #(R.ASTGraphBuilder, R.ASTDataCFGVisitor, M.GnnPytorchGeomModel),\n",
    "    #(R.LLVMGraphBuilder, R.LLVMCDFGCallVisitor, M.GnnPytorchGeomModel),\n",
    "    (R.LLVMGraphBuilder, R.LLVMCDFGPlusVisitor, M.GnnPytorchGeomModel),\n",
    "]"
   ]
  },
  {
   "cell_type": "code",
   "execution_count": 4,
   "id": "ea52a393",
   "metadata": {},
   "outputs": [],
   "source": [
    "builder, visitor, model = combinations[0]"
   ]
  },
  {
   "cell_type": "code",
   "execution_count": 5,
   "id": "0caed737",
   "metadata": {},
   "outputs": [
    {
     "name": "stdout",
     "output_type": "stream",
     "text": [
      "Processing LLVMGraphBuilder-LLVMCDFGPlusVisitor-GnnPytorchGeomModel\n"
     ]
    }
   ],
   "source": [
    "print(\"Processing %s-%s-%s\" % (builder.__name__, visitor.__name__, model.__name__))\n",
    "\n",
    "# Clang Driver for C\n",
    "clang_driver = ClangDriver(\n",
    "    ClangDriver.ProgrammingLanguage.LLVM,\n",
    "    ClangDriver.OptimizationLevel.O0,\n",
    "    [],#[(x, ClangDriver.IncludeDirType.User) for x in dataset.additional_include_dirs],\n",
    "    [\n",
    "        \"-S\",\n",
    "        #\"-I/usr/include/c++/9\",\n",
    "        \"-xcl\", \"-target\", \"x86_64-pc-linux-gnu\",\n",
    "        \"-w\",\n",
    "    ],\n",
    ")"
   ]
  },
  {
   "cell_type": "code",
   "execution_count": null,
   "id": "45e6fda2",
   "metadata": {},
   "outputs": [
    {
     "name": "stderr",
     "output_type": "stream",
     "text": [
      "Source Code -> IR+: 100%|██████████| 51637/51637 [00:33<00:00, 1549.59it/s]\n",
      "IR+ -> ML Representation:  69%|██████▉   | 35569/51637 [03:07<4:35:24,  1.03s/it]"
     ]
    }
   ],
   "source": [
    "data = dataset.preprocess(builder(clang_driver), visitor)"
   ]
  },
  {
   "cell_type": "code",
   "execution_count": null,
   "id": "444abcc0",
   "metadata": {},
   "outputs": [],
   "source": [
    "# Train and test\n",
    "kf = StratifiedKFold(n_splits=10, shuffle=True, random_state=204)\n",
    "split = kf.split([sample[\"x\"] for sample in data[\"samples\"]], [sample[\"y\"] for sample in data[\"samples\"]])\n",
    "\n",
    "for train_idx, test_idx in split:\n",
    "    model = model(num_types=data[\"num_types\"])\n",
    "\n",
    "    train_summary = model.train(\n",
    "        list(np.array(data[\"samples\"])[train_idx]),\n",
    "        list(np.array(data[\"samples\"])[test_idx]),\n",
    "    )\n",
    "    print(train_summary)\n",
    "\n",
    "    break"
   ]
  }
 ],
 "metadata": {
  "kernelspec": {
   "display_name": "Python 3",
   "language": "python",
   "name": "python3"
  },
  "language_info": {
   "codemirror_mode": {
    "name": "ipython",
    "version": 3
   },
   "file_extension": ".py",
   "mimetype": "text/x-python",
   "name": "python",
   "nbconvert_exporter": "python",
   "pygments_lexer": "ipython3",
   "version": "3.6.15"
  }
 },
 "nbformat": 4,
 "nbformat_minor": 5
}
